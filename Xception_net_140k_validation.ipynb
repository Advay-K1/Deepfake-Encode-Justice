{
 "cells": [
  {
   "cell_type": "code",
   "execution_count": 4,
   "id": "18b679d9-f758-4d90-8ffc-84a2ac826e03",
   "metadata": {},
   "outputs": [
    {
     "data": {
      "text/plain": [
       "<keras.src.engine.sequential.Sequential at 0x29fefd810>"
      ]
     },
     "execution_count": 4,
     "metadata": {},
     "output_type": "execute_result"
    }
   ],
   "source": [
    "import tensorflow as tf \n",
    "\n",
    "xception_transfer_model = tf.keras.models.load_model('transfer_model.keras')\n",
    "\n",
    "xception_transfer_model"
   ]
  },
  {
   "cell_type": "code",
   "execution_count": 9,
   "id": "391fc462-2666-4fb2-8df9-c3677014e1a4",
   "metadata": {},
   "outputs": [
    {
     "name": "stdout",
     "output_type": "stream",
     "text": [
      "Found 29272 images belonging to 2 classes.\n"
     ]
    }
   ],
   "source": [
    "from tensorflow.keras.preprocessing.image import ImageDataGenerator\n",
    "import os \n",
    "\n",
    "\n",
    "\n",
    "validation_data_dir = os.path.join(\"Video2ImageDataset_noFace\")\n",
    "\n",
    "validation_datagen = ImageDataGenerator(rescale = 1./255)\n",
    "\n",
    "target_size = (224, 224)\n",
    "batch_size = 100  \n",
    "\n",
    "validation_data_generator = validation_datagen.flow_from_directory(\n",
    "    validation_data_dir,\n",
    "    target_size= target_size, \n",
    "    batch_size=batch_size,\n",
    "    class_mode='binary', \n",
    "    shuffle=True\n",
    ")"
   ]
  },
  {
   "cell_type": "code",
   "execution_count": 10,
   "id": "67013695-0c18-4510-90f3-552958f3818e",
   "metadata": {},
   "outputs": [
    {
     "data": {
      "text/plain": [
       "{'fake': 0, 'real': 1}"
      ]
     },
     "execution_count": 10,
     "metadata": {},
     "output_type": "execute_result"
    }
   ],
   "source": [
    "validation_data_generator.class_indices"
   ]
  },
  {
   "cell_type": "code",
   "execution_count": 11,
   "id": "5c2748df-ee8c-4d5c-8a38-645adf7fe4d1",
   "metadata": {},
   "outputs": [
    {
     "name": "stdout",
     "output_type": "stream",
     "text": [
      "293/293 [==============================] - 715s 2s/step - loss: 2.3284 - accuracy: 0.1626\n"
     ]
    },
    {
     "data": {
      "text/plain": [
       "[2.328439950942993, 0.16257856786251068]"
      ]
     },
     "execution_count": 11,
     "metadata": {},
     "output_type": "execute_result"
    }
   ],
   "source": [
    "xception_transfer_model.evaluate(validation_data_generator)"
   ]
  },
  {
   "cell_type": "code",
   "execution_count": 13,
   "id": "7f4aadfa-c09f-4e48-b756-6fc6b201b97b",
   "metadata": {},
   "outputs": [
    {
     "name": "stdout",
     "output_type": "stream",
     "text": [
      "Found 20000 images belonging to 2 classes.\n"
     ]
    }
   ],
   "source": [
    "path = \"/Users/advaykadam/.cache/kagglehub/datasets/xhlulu/140k-real-and-fake-faces/versions/2\"\n",
    "valid_data_dir = os.path.join(path, 'real_vs_fake/real-vs-fake/valid')\n",
    "\n",
    "validation_data_gen = ImageDataGenerator(rescale = 1./255)\n",
    "\n",
    "target_size = (224, 224)\n",
    "batch_size = 100  \n",
    "\n",
    "valid_data_dir_gen = validation_data_gen.flow_from_directory(\n",
    "    valid_data_dir,\n",
    "    target_size= target_size, \n",
    "    batch_size=batch_size,\n",
    "    class_mode='binary', \n",
    "    shuffle=True\n",
    ")"
   ]
  },
  {
   "cell_type": "code",
   "execution_count": 14,
   "id": "940e38d6-7a13-46bb-aa3d-8274cdb2835a",
   "metadata": {},
   "outputs": [
    {
     "name": "stdout",
     "output_type": "stream",
     "text": [
      "200/200 [==============================] - 487s 2s/step - loss: 0.1054 - accuracy: 0.9603\n"
     ]
    },
    {
     "data": {
      "text/plain": [
       "[0.10540446639060974, 0.9602500200271606]"
      ]
     },
     "execution_count": 14,
     "metadata": {},
     "output_type": "execute_result"
    }
   ],
   "source": [
    "xception_transfer_model.evaluate(valid_data_dir_gen)"
   ]
  },
  {
   "cell_type": "code",
   "execution_count": null,
   "id": "21e3f783-e462-44a1-ac2e-fc64e42d9d2a",
   "metadata": {},
   "outputs": [],
   "source": []
  }
 ],
 "metadata": {
  "kernelspec": {
   "display_name": "Python [conda env:machine-learning-env] *",
   "language": "python",
   "name": "conda-env-machine-learning-env-py"
  },
  "language_info": {
   "codemirror_mode": {
    "name": "ipython",
    "version": 3
   },
   "file_extension": ".py",
   "mimetype": "text/x-python",
   "name": "python",
   "nbconvert_exporter": "python",
   "pygments_lexer": "ipython3",
   "version": "3.11.4"
  }
 },
 "nbformat": 4,
 "nbformat_minor": 5
}
